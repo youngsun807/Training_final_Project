{
 "cells": [
  {
   "cell_type": "markdown",
   "metadata": {
    "collapsed": true
   },
   "source": [
    "### 현재 명시된 부분\n",
    "1.  화자가 단어를 언급하거나 비명을 지를 때 두가지 경우를 생각\n",
    "<br><br>\n",
    "- 모든 정보는 모바일로 전송<br>\n",
    "    1) 화자가 위험단어를 언급했을 때 인식이 되면 GPS와 음성을 전송<br>\n",
    "    2) 비명분류시 정보 전송<br><br>\n",
    "\n",
    "- 안전신호 송신시 설정값 rollback\n",
    "<br><br>\n",
    "- 일상데이터 서버전송"
   ]
  },
  {
   "cell_type": "code",
   "execution_count": null,
   "metadata": {
    "collapsed": true
   },
   "outputs": [],
   "source": [
    "\"\"\"\n",
    "class 메인()\n",
    "\n",
    "    #항상 작동중인class\n",
    "        소리감지class(), 화자인식class(), GPS감지class(60)\n",
    "        소리인식,화자인식, GPS감지 같이 돌리기(멀티threading processing)\n",
    "        \n",
    "        \n",
    "     \n",
    "    #USB로 서버에 자료전송시 동작하는 class\n",
    "    if(usb로 서버에 전송 요청 시도):\n",
    "        class 서버전송( GPS감지.일상상활GPS정보전달() + 소리녹음.녹음정보 전송() )\n",
    "    \n",
    "\n",
    "\"\"\""
   ]
  },
  {
   "cell_type": "code",
   "execution_count": null,
   "metadata": {
    "collapsed": true
   },
   "outputs": [],
   "source": [
    "\"\"\"\n",
    "\n",
    "class 소리감지(소리데이터input):\n",
    "\n",
    "    입력되는 소리청취\n",
    "    5초의 음성데이터는 항상 버퍼링 상태\n",
    "        IF 데시벨 > 100:\n",
    "            높은데시벨감지(버퍼링된 소리5초 + 뒤의소리 5초)\n",
    "        \n",
    "        IF 데시벨 10초간 50데시벨 이하:\n",
    "            낮은데시벨감지()\n",
    "    \n",
    "    \n",
    "    def 높은데시벨감지():\n",
    "        {% 소리녹음.녹음 메소드에 활성화 신호를 보낸다(int) %}\n",
    "        {% 비명분류 클래스에 (버퍼링된 소리5초 + 뒤의소리 5초)전송 %}\n",
    "        \n",
    "        \n",
    "    def 낮은데시벨감지():\n",
    "        {% 소리녹음.녹음 메소드에 비활성화 신호를 보낸다(int) %}\n",
    "\n",
    "\n",
    "\"\"\""
   ]
  },
  {
   "cell_type": "code",
   "execution_count": null,
   "metadata": {
    "collapsed": true
   },
   "outputs": [],
   "source": [
    "\"\"\"\n",
    "class 비명분류(소리데이터input):\n",
    "    \n",
    "    입력된 소리데이터 (버퍼링된 소리5초 + 뒤의소리 5초) 를 \n",
    "    분석하여 학습된 데이터 (비명소리, 대조군) 중 예측값 출력 \n",
    "    (비명소리냐 비명이 아닌 소리냐 둘 중 하나만 출력)\n",
    "    EX)비명확률 = 76%\n",
    "    \n",
    "    IF 비명확률 > 70%:\n",
    "        {%  GPS감지.위급상황GPS정보전달() %}값과\n",
    "        {% 버퍼링된 소리5초 + 뒤의소리 5초 %}두 값을\n",
    "        위기시 데이터전송class에 전송\n",
    "        \n",
    "        그리고 후에\n",
    "        {%  GPS감지.위기상황GPS정보트래킹() %}값을 초단위로 전송\n",
    "        \n",
    "    \n",
    "\"\"\""
   ]
  },
  {
   "cell_type": "code",
   "execution_count": null,
   "metadata": {
    "collapsed": true
   },
   "outputs": [],
   "source": [
    "\"\"\"\n",
    "class 화자인식러닝(소리데이터input):\n",
    "\n",
    "    def 화자인식 기본설정():\n",
    "        화자의 목소리로 설정하고싶은 단어를 10회 반복학습을 시키면\n",
    "        지정한 단어를 \"화자\" 가 말하고 있는지 러닝하여 모델을 생성\n",
    "        \n",
    "    def 모델출력():\n",
    "        {% 화자인식class에 모델을 넘겨줌 %}\n",
    "        \n",
    "\"\"\""
   ]
  },
  {
   "cell_type": "code",
   "execution_count": null,
   "metadata": {
    "collapsed": true
   },
   "outputs": [],
   "source": [
    "\"\"\"\n",
    "class 화자인식(소리데이터input):\n",
    "        \n",
    "    #생성시 모델데이터 필요\n",
    "        \n",
    "    항상 화자가 설정한 단어를 말하는지 청취중\n",
    "        \n",
    "    IF 특정단어 인식:\n",
    "        {%  GPS감지.위급상황GPS정보전달() %}값과\n",
    "        {% 버퍼링된 소리5초 + 뒤의소리 5초 %}두 값을\n",
    "        위기시 데이터전송class에 전송\n",
    "        \n",
    "        그리고 후에\n",
    "        {%  GPS감지.위기상황GPS정보트래킹() %}값을 초단위로 전송\n",
    "\"\"\""
   ]
  },
  {
   "cell_type": "code",
   "execution_count": null,
   "metadata": {
    "collapsed": true
   },
   "outputs": [],
   "source": [
    "\"\"\"\n",
    "class 소리녹음():\n",
    "    \n",
    "    #default는 비활성화이다.\n",
    "\n",
    "    def 녹음활성화(int):\n",
    "        녹음을 시작\n",
    "    \n",
    "    def 녹음비활성화(int):\n",
    "        녹음을 종료\n",
    "        \n",
    "    def 녹음정보 전송():\n",
    "        녹음된 모든 정보를 리턴\n",
    "    \n",
    "\"\"\""
   ]
  },
  {
   "cell_type": "code",
   "execution_count": 1,
   "metadata": {
    "collapsed": true
   },
   "outputs": [
    {
     "data": {
      "text/plain": [
       "'\\nclass GPS 감지( 데이터요청 간격[초] ):\\n    \\n    입력된 parameter에 따라 gps정보를 시간별로 레이블링해서 저장\\n    \\n    def 위기상황GPS정보전달():\\n    \\n'"
      ]
     },
     "execution_count": 1,
     "metadata": {},
     "output_type": "execute_result"
    }
   ],
   "source": [
    "\"\"\"\n",
    "class GPS 감지( 데이터요청 간격[초] ):\n",
    "\n",
    "    class생성시 parameter값으로 입력된 시간마다\n",
    "    mobile에서 GPS데이터를 요청하고 받아온다.\n",
    "    만약 받아오는데 실패했을시 null값으로 처리한다.\n",
    "    \n",
    "    입력된 parameter에 따라 gps정보를 시간별로 레이블링해서 저장\n",
    "    \n",
    "    def 위기상황GPS정보전달():\n",
    "        요청이 들어온 시점으로부터 한시간전까지의 모든 GPS데이터를 리턴한다.\n",
    "    \n",
    "    def 위기상황GPS정보트래킹():\n",
    "        요청이 들어온 시점으로부터 위기상활 해제시까지 초단위로 위치정보를 갱신하여 보낸다.\n",
    "    \n",
    "    def 일상상활GPS정보전달():\n",
    "        성향분석을 위해 서버로 전송 될 때 모든 GPS정보를 전송한다.\n",
    "    \n",
    "\"\"\""
   ]
  },
  {
   "cell_type": "code",
   "execution_count": null,
   "metadata": {
    "collapsed": true
   },
   "outputs": [],
   "source": [
    "\"\"\"\n",
    "*API필요 찾아볼것\n",
    "\n",
    "class 위기시 데이터 전송(소리데이터input):\n",
    "\n",
    "    화자인식 혹은 비명분류에서 받은 GPS데이터+음성데이터를\n",
    "    모바일 디바이스로 전송한다.\n",
    "\"\"\""
   ]
  },
  {
   "cell_type": "code",
   "execution_count": null,
   "metadata": {
    "collapsed": true
   },
   "outputs": [],
   "source": [
    "\"\"\"\n",
    "class 안전모드(모바일 디바이스에서의 신호):\n",
    "    위험으로 인식되어 모바일 디바이스로 신호를 보냈으나\n",
    "    오작동으로 판단되어, 혹은 위기상황을 벗어나게되었을 때\n",
    "    모든 설정값을 초기설정으로 rollback한다.\n",
    "\n",
    "\"\"\""
   ]
  },
  {
   "cell_type": "code",
   "execution_count": null,
   "metadata": {
    "collapsed": true
   },
   "outputs": [],
   "source": [
    "\"\"\"\n",
    "class 서버전송( GPS + 음성데이터 ):\n",
    "    \n",
    "    GPS데이터와 음성데이터를\n",
    "    \"시간대별로 매핑하여\" 서버에 업로드한다.\n",
    "    \n",
    "\n",
    "\"\"\""
   ]
  }
 ],
 "metadata": {
  "anaconda-cloud": {},
  "kernelspec": {
   "display_name": "Python 3",
   "language": "python",
   "name": "python3"
  },
  "language_info": {
   "codemirror_mode": {
    "name": "ipython",
    "version": 3
   },
   "file_extension": ".py",
   "mimetype": "text/x-python",
   "name": "python",
   "nbconvert_exporter": "python",
   "pygments_lexer": "ipython3",
   "version": "3.7.2"
  }
 },
 "nbformat": 4,
 "nbformat_minor": 1
}
