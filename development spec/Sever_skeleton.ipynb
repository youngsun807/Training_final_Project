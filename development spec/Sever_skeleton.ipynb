{
 "cells": [
  {
   "cell_type": "code",
   "execution_count": null,
   "metadata": {},
   "outputs": [],
   "source": [
    "class 데이터 저장( * ):\n",
    "    단어의 빈도수와 GPS데이터등 사용자 성향에 관해 분석한 데이터를\n",
    "    DB에 저장한다."
   ]
  },
  {
   "cell_type": "code",
   "execution_count": null,
   "metadata": {},
   "outputs": [],
   "source": [
    "class 감성분석( 디바이스에서 받아온 음성데이터 ):\n",
    "    * API 적용하기\n",
    "\n",
    "    \n",
    "    def 문장단위변환(정제된 음성.wav):\n",
    "        * API 적용하기(watson STT)\n",
    "        if 0.5초 이상의 공백 발생:\n",
    "            1초 wait(음성파일.wav)\n",
    "            다음 줄로 커서 이동\n",
    "            continue\n",
    "        var text_csv = 텍스트로 변환 파일.csv\n",
    "        return text_csv\n",
    "    \n",
    "    \n",
    "    def 형태소분석( csv ):\n",
    "        정제된 데이터를 KONLPY를 이용해 형태소 분석하여\n",
    "        토큰화된 데이터를 생성한다.\n",
    "        gensim이라는 w2v 모델로 워드임베딩(벡터 화)을 하여 모델 저장한다.\n",
    "        단어벡터들을 fully connectrd layer와 softmax함수를 이용해 분류\n",
    "        부정/긍정\n",
    "        f = pd.read_csv(\"csv파일\", sep='\\n', encoding='utf-8-sig')\n",
    "        result = ''\n",
    "        count_n = 0\n",
    "        count_p = 0\n",
    "        if line in f:\n",
    "            result = 감성분석(line) 결과\n",
    "            if result == \"부정\":\n",
    "                count_n += 1\n",
    "            elif result == \"긍정\":\n",
    "                count_p +=1\n",
    "            else:\n",
    "                continue\n",
    "                \n",
    "        var positive = count_p / len(f) * 100\n",
    "        var negative = count_n / len(f) * 100\n",
    "        result_list = [positive, negative]\n",
    "        return result_list\n",
    "        * 구현 완료\n",
    "        \n",
    "    def 빈도 분석(csv):\n",
    "        read(csv) 한 후\n",
    "        KONLPY를 이용하여 품사 태깅\n",
    "        접속사, 조사, 명사 등을 각각 wordcount\n",
    "        return wordcount딕셔너리\n",
    "\n",
    "    def main():\n",
    "        var textConvert = 문장단위변환(정제된음성)\n",
    "        var testRatio = 형태소분석(textConvert)\n",
    "        var freq = 빈도분석(textConvert)\n",
    "        class 데이터저장(textRatio, freq)\n",
    "        \n",
    "    if __name__ = \"__main__\":\n",
    "        main()"
   ]
  }
 ],
 "metadata": {
  "kernelspec": {
   "display_name": "Python 3",
   "language": "python",
   "name": "python3"
  },
  "language_info": {
   "codemirror_mode": {
    "name": "ipython",
    "version": 3
   },
   "file_extension": ".py",
   "mimetype": "text/x-python",
   "name": "python",
   "nbconvert_exporter": "python",
   "pygments_lexer": "ipython3",
   "version": "3.7.0"
  }
 },
 "nbformat": 4,
 "nbformat_minor": 2
}
