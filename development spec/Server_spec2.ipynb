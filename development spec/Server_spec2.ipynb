{
 "cells": [
  {
   "cell_type": "markdown",
   "metadata": {},
   "source": [
    "### 명시된 기능\n",
    "- 형태소분석"
   ]
  },
  {
   "cell_type": "code",
   "execution_count": null,
   "metadata": {},
   "outputs": [],
   "source": [
    "'''\n",
    "class \n",
    "\n",
    "'''"
   ]
  },
  {
   "cell_type": "code",
   "execution_count": null,
   "metadata": {},
   "outputs": [],
   "source": []
  },
  {
   "cell_type": "code",
   "execution_count": null,
   "metadata": {
    "collapsed": true
   },
   "outputs": [],
   "source": [
    "\"\"\"\n",
    "class 음성정제(음성파일):\n",
    "    디바이스에서 업로드된 음성파일을 정제한다.\n",
    "    (데시벨이 낮은 부분 제거, 너무 높아서 분석 불가능한 부분 제거 등등)\n",
    "    정제 후에 음성텍스트변환() class에 정제된 음성 전달\n",
    "    \n",
    "    \n",
    "    \n",
    "\"\"\""
   ]
  },
  {
   "cell_type": "code",
   "execution_count": null,
   "metadata": {},
   "outputs": [],
   "source": []
  },
  {
   "cell_type": "code",
   "execution_count": null,
   "metadata": {},
   "outputs": [],
   "source": []
  },
  {
   "cell_type": "code",
   "execution_count": null,
   "metadata": {
    "collapsed": true
   },
   "outputs": [],
   "source": [
    "\"\"\"\n",
    "class 음성텍스트변환( 정제된 음성 ):\n",
    "\n",
    "\"\"\""
   ]
  },
  {
   "cell_type": "code",
   "execution_count": null,
   "metadata": {
    "collapsed": true
   },
   "outputs": [],
   "source": [
    "\"\"\"\n",
    "def 형태소분석( 텍스트변환 파일 ):\n",
    "    정제된 데이터를 KONLPY등을 이용해 형태소 분석하여\n",
    "    토큰화된 데이터를 생성한다.\n",
    "    gensim이라는 w2v 모델로 워드임베딩(벡터 화)을 하여 모델 저장한다.\n",
    "    단어벡터들을 fully connectrd layer와 softmax함수를 이용해 분류\n",
    "    0: 부정 1: 긍정\n",
    "\n",
    "    \n",
    "\"\"\""
   ]
  },
  {
   "cell_type": "code",
   "execution_count": null,
   "metadata": {
    "collapsed": true
   },
   "outputs": [],
   "source": [
    "\"\"\"\n",
    "class 사용자 성향분류( 토큰화된 데이터 ):\n",
    "    토큰화된 데이터를 분석하여 사용자의 성향을 분석한다.\n",
    "    단어빈도수, 장소에따른 언어습관 등등\n",
    "    \n",
    "\"\"\""
   ]
  },
  {
   "cell_type": "code",
   "execution_count": null,
   "metadata": {
    "collapsed": true
   },
   "outputs": [],
   "source": [
    "\"\"\"\n",
    "class 데이터 저장( 성향데이터 ):\n",
    "    단어의 빈도수와 GPS데이터등 사용자 성향에 관해 분석한 데이터를\n",
    "    DB에 저장한다.\n",
    "\"\"\""
   ]
  }
 ],
 "metadata": {
  "kernelspec": {
   "display_name": "Python 3",
   "language": "python",
   "name": "python3"
  },
  "language_info": {
   "codemirror_mode": {
    "name": "ipython",
    "version": 3
   },
   "file_extension": ".py",
   "mimetype": "text/x-python",
   "name": "python",
   "nbconvert_exporter": "python",
   "pygments_lexer": "ipython3",
   "version": "3.7.2"
  }
 },
 "nbformat": 4,
 "nbformat_minor": 1
}
