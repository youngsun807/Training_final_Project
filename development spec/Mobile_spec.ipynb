{
 "cells": [
  {
   "attachments": {
    "appSpec.PNG": {
     "image/png": "[encoded data removed]"
    }
   },
   "cell_type": "markdown",
   "metadata": {},
   "source": [
    "![appSpec.PNG](attachment:appSpec.PNG)"
   ]
  },
  {
   "cell_type": "markdown",
   "metadata": {},
   "source": [
    "## GPS/자이로 센서 모니터 부분"
   ]
  },
  {
   "cell_type": "code",
   "execution_count": null,
   "metadata": {},
   "outputs": [],
   "source": [
    "class gpsSensor:\n",
    "    \n",
    "    def __init__(self, interval):\n",
    "        #클래스 생성시 GPS정보를 받을 간격을 정하여 생성한다.\n",
    "        #EX) gpsSensor(60) 60초 간격으로 GPS정보를 리턴한다.\n",
    "        self.interval = interval\n",
    "    \n",
    "    def setInterval(interval):\n",
    "        #간격을 다시 설정한다.\n",
    "        self.interval = interval\n",
    "        \n",
    "        \n",
    "    #설정된 interval에 맞게 정보를 리턴해준다."
   ]
  },
  {
   "cell_type": "code",
   "execution_count": null,
   "metadata": {},
   "outputs": [],
   "source": [
    "class giroSensor:\n",
    "\n",
    "    def __init__(self, interval):\n",
    "        #클래스 생성시 자이로센서 정보를 받을 간격을 정하여 생성한다.\n",
    "        #EX) giroSensor(60) 60초 간격으로 자이로센서 정보를 리턴한다.\n",
    "        self.interval = interval\n",
    "    \n",
    "    def setInterval(interval):\n",
    "        #간격을 다시 설정한다.\n",
    "        self.interval = interval\n",
    "    \n",
    "    #설정된 interval만큼 모든 자이로센서의 변화를 저장했다가 list 형태로 return한다."
   ]
  },
  {
   "cell_type": "markdown",
   "metadata": {},
   "source": [
    "## igotIT Center Connector 부분"
   ]
  },
  {
   "cell_type": "code",
   "execution_count": null,
   "metadata": {},
   "outputs": [],
   "source": [
    "class personlize:\n",
    "    \"\"\"\n",
    "    [데이터 형식 미정]\n",
    "    igotIT center에서 사용자 정보를 보내고\n",
    "    사용자정보에 맞는 데이터를 받아와서 personlize class에 보내준다.\n",
    "    \"\"\""
   ]
  },
  {
   "cell_type": "markdown",
   "metadata": {},
   "source": [
    "## igotIT Device Connector 부분"
   ]
  },
  {
   "cell_type": "code",
   "execution_count": null,
   "metadata": {},
   "outputs": [],
   "source": [
    "import giroSensor as gps\n",
    "import gpsSensor as giro\n",
    "\n",
    "class sendInfo:\n",
    "    \n",
    "    def __init__(self,gpsInter, giroInter):\n",
    "        self.gps = gps(gpsInter)\n",
    "        self.giro = giro(giroInter)\n",
    "    \n",
    "    def setGpsInterval(interval):\n",
    "        #GPS 정보요청 간격을 다시 설정한다.\n",
    "        self.gps.setInterval(interval)\n",
    "    \n",
    "    def setGiroInterval(interval):\n",
    "        #자이로센서 정보요청 간격을 다시 설정한다.\n",
    "        self.giro.setInterval(interval)\n",
    "    \n",
    "    def sendSignal():\n",
    "        # 위험신호를 받았을때 위험감지 앱 컨트롤러에 위험정보를 보낸다.\n",
    "        \n",
    "    # 디바이스에 self.gps와 self.giro 객체에서 반환되는 정보를 계속해서 보낸다.\n",
    "    # 위험신호 수신시 setGpsInterval와 setGiroInterval를 이용하여\n",
    "    # 매 초마다 gps정보와 자이로센서 정보를 받도록 변경한다.\n",
    "    \n",
    "    # 패턴해체성공신호 수신시 기존 설정으로 복귀한다."
   ]
  },
  {
   "cell_type": "markdown",
   "metadata": {},
   "source": [
    "## 위험감지 앱 컨트롤러 부분"
   ]
  },
  {
   "cell_type": "code",
   "execution_count": null,
   "metadata": {},
   "outputs": [],
   "source": [
    "class dangerAction:\n",
    "    \n",
    "    \"\"\"\n",
    "    Device Connector에서 위험신호가 보내졌을 경우\n",
    "    시각화 클래스에서 패턴을띄우도록 한다.\n",
    "    \n",
    "    패턴 해제에 성공했을 경우\n",
    "    Device Connector에 안정화 신호를 보내어 초기상황으로 되돌린다.\n",
    "    \"\"\""
   ]
  },
  {
   "cell_type": "markdown",
   "metadata": {},
   "source": [
    "## 개인유형&위험상황 시각화 부분"
   ]
  },
  {
   "cell_type": "code",
   "execution_count": null,
   "metadata": {},
   "outputs": [],
   "source": [
    "class personlize:\n",
    "    \"\"\"\n",
    "    [데이터 형식, 시각화방안 미정]\n",
    "    igotIT center에서 받아온 정보를 시각화하여\n",
    "    이용자에게 보여준다.\n",
    "    \"\"\""
   ]
  },
  {
   "cell_type": "code",
   "execution_count": null,
   "metadata": {},
   "outputs": [],
   "source": [
    "class showPattern:\n",
    "    \n",
    "    def set pattern(gesture):\n",
    "        # 초기패턴 설정 메소드\n",
    "    \n",
    "    def pattern():\n",
    "        \"\"\"\n",
    "        위험신호 수신시 패턴을 보여준다.\n",
    "        1분안에 풀지 못하거나 3회 실패시 수호천사경보알림class에 위험상황신호를 보낸다.\n",
    "        패턴해체 성공시 위험감지 앱 컨트롤러에 안전상황 신호를 보낸다.\n",
    "        \"\"\""
   ]
  },
  {
   "cell_type": "markdown",
   "metadata": {},
   "source": [
    "## 수호천사 경보알림 부분"
   ]
  },
  {
   "cell_type": "code",
   "execution_count": null,
   "metadata": {},
   "outputs": [],
   "source": [
    "class smartPhone:\n",
    "    \n",
    "    def siren():\n",
    "        # 경보음을 울려준다.\n",
    "        \n",
    "    def callAndConnected():\n",
    "        # 제1 수호천사에게 전화를 걸고 연결상태로 유지한다."
   ]
  },
  {
   "cell_type": "code",
   "execution_count": null,
   "metadata": {},
   "outputs": [],
   "source": [
    "class sendMessage:\n",
    "    \n",
    "    def agent():\n",
    "        #바로 119나 112같은 기관에 연락을 취한다.\n",
    "        \n",
    "    def user():\n",
    "        # igotit app 유저의 경우 사용자의 gps와 음성데이터를 모두 실시간으로 전송해준다.\n",
    "        \n",
    "    def nonUser():\n",
    "        # sms서비스를 이용해 1사건당시 1분동안의 음성데이터와 1시간의 gps데이터를 전송한다.\n",
    "        "
   ]
  },
  {
   "cell_type": "markdown",
   "metadata": {},
   "source": [
    "### 추가 고려사항\n",
    "\n",
    "- 실제 위험상황에서 상황 종료시 모든 상태 정상화 부분 고민.\n",
    "- 위험수치에 따른 차별화된 조치 고려 필요성이 존재함."
   ]
  }
 ],
 "metadata": {
  "kernelspec": {
   "display_name": "Python 3",
   "language": "python",
   "name": "python3"
  },
  "language_info": {
   "codemirror_mode": {
    "name": "ipython",
    "version": 3
   },
   "file_extension": ".py",
   "mimetype": "text/x-python",
   "name": "python",
   "nbconvert_exporter": "python",
   "pygments_lexer": "ipython3",
   "version": "3.6.5"
  }
 },
 "nbformat": 4,
 "nbformat_minor": 2
}
